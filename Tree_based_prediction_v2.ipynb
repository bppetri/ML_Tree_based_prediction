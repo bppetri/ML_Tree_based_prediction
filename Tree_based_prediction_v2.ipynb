{
 "cells": [
  {
   "cell_type": "code",
   "execution_count": 1,
   "id": "0fcfe33c",
   "metadata": {},
   "outputs": [],
   "source": [
    "import pandas as pd\n",
    "import numpy as np\n",
    "\n",
    "from sklearn.base import RegressorMixin\n",
    "from sklearn.model_selection import train_test_split\n",
    "from sklearn.ensemble import RandomForestRegressor\n",
    "from sklearn.ensemble import GradientBoostingRegressor\n",
    "from sklearn.ensemble import AdaBoostRegressor\n",
    "from xgboost import XGBRegressor\n",
    "from sklearn.preprocessing import OneHotEncoder\n",
    "from sklearn.pipeline import Pipeline\n",
    "from sklearn.metrics import r2_score, mean_squared_error, mean_absolute_error\n",
    "\n",
    "from hyperopt import fmin, hp, tpe, Trials, space_eval, STATUS_OK\n"
   ]
  },
  {
   "cell_type": "code",
   "execution_count": 2,
   "id": "774bd074",
   "metadata": {},
   "outputs": [],
   "source": [
    "# Functions\n",
    "\n",
    "\n",
    "\n",
    "def eval_model(y_train_true, y_train_pred, y_test_true, y_test_pred, metric, **kwargs):\n",
    "    \"\"\"Calculate metrics for train and test sets\"\"\"\n",
    "    try:\n",
    "        return {\n",
    "            f\"{metric.__name__}_train\": metric(y_train_true, y_train_pred, **kwargs),\n",
    "            f\"{metric.__name__}_test\": metric(y_test_true, y_test_pred, **kwargs),\n",
    "        }\n",
    "    except:\n",
    "        import pdb; pdb.set_trace()\n",
    "\n",
    "\n",
    "        \n",
    "def create_predictions(model, X_train, X_test, per_m2: bool = False):\n",
    "    \"\"\"Create predictions for train and test\"\"\"\n",
    "    if per_m2:\n",
    "        res = (\n",
    "            model.predict(X_train) * X_train[\"GrLivArea\"],\n",
    "            model.predict(X_test) * X_test[\"GrLivArea\"],\n",
    "        )\n",
    "         \n",
    "     \n",
    "    else:\n",
    "        res = ( model.predict(X_train), model.predict(X_test))\n",
    "    try:\n",
    "        assert np.isnan(res[0]).sum()==0\n",
    "\n",
    "    except:\n",
    "        import pdb; pdb.set_trace()\n",
    "    return res\n",
    "\n",
    "\n",
    "def setup_regression(\n",
    "    train, train_features, core_model: RegressorMixin, per_m2=False, log_y=False\n",
    "):\n",
    "    \"\"\"Create a model and separate the data into X, y train and test\"\"\"\n",
    "\n",
    "    if per_m2:\n",
    "        y_name = \"SalePrice_per_GrLivArea\"\n",
    "    else:\n",
    "        y_name = \"SalePrice\"\n",
    "\n",
    "    X_train, X_test, y_train, y_test = train_test_split(\n",
    "        train[train_features], train[y_name], test_size=0.33, random_state=42\n",
    "    )\n",
    "\n",
    "    if log_y:\n",
    "        model = TransformedTargetRegressor(\n",
    "            regressor=core_model, func=np.log, inverse_func=np.exp\n",
    "        )\n",
    "    else:\n",
    "        model = core_model\n",
    "    model_pipeline = Pipeline(\n",
    "        [(\"OHE\", OneHotEncoder(handle_unknown=\"ignore\")), (\"model\", model)]\n",
    "    )\n",
    "    model_pipeline.fit(X_train, y_train)\n",
    "    if per_m2:\n",
    "        return (\n",
    "            model_pipeline,\n",
    "            X_train,\n",
    "            X_test,\n",
    "            y_train * X_train[\"GrLivArea\"],\n",
    "            y_test * X_test[\"GrLivArea\"],\n",
    "        )\n",
    "    else:\n",
    "        return model_pipeline, X_train, X_test, y_train, y_test\n",
    "    \n",
    "\n",
    "def calculate_metrics_for_pipeline(train, train_features, core_model, per_m2, log_y):\n",
    "    model_pipeline, X_train, X_test, y_train, y_test = setup_regression(train.fillna(0),train_features,\n",
    "                                                               core_model= core_model,\n",
    "                                                                per_m2=per_m2, log_y=log_y)\n",
    "\n",
    "    y_train_pred, y_test_pred = create_predictions(model_pipeline, X_train, X_test, per_m2=per_m2)\n",
    "    \n",
    "    \n",
    "    return {**eval_model(y_train, y_train_pred,y_test, y_test_pred, r2_score),\n",
    "              **eval_model(y_train, y_train_pred,y_test, y_test_pred, mean_squared_error, squared=False)}"
   ]
  },
  {
   "cell_type": "code",
   "execution_count": 3,
   "id": "6044b14d",
   "metadata": {},
   "outputs": [],
   "source": [
    "# Saját függvények\n",
    "\n",
    "def tree_based_prediction (X, y, core_model = RandomForestRegressor()):\n",
    "\n",
    "    \"\"\"Docstring-et írni!\"\"\"\n",
    "\n",
    "    X_train, X_test, y_train, y_test = train_test_split(X, y)\n",
    "    \n",
    "    model_pipeline = Pipeline(\n",
    "        [(\"OHE\", OneHotEncoder(handle_unknown=\"ignore\")), (\"model\", core_model)])\n",
    "    \n",
    "    SalePrice_prediction = model_pipeline.fit(X_train, y_train)\n",
    "    \n",
    "    y_train_pred = model_pipeline.predict(X_train)\n",
    "    y_test_pred = model_pipeline.predict(X_test)\n",
    "    \n",
    "    mae = mean_absolute_error(y_test, y_test_pred)\n",
    "    \n",
    "    return mae"
   ]
  },
  {
   "cell_type": "code",
   "execution_count": 4,
   "id": "a39631c4",
   "metadata": {},
   "outputs": [],
   "source": [
    "train = pd.read_csv(\"train.csv\")\n",
    "test = pd.read_csv(\"test.csv\")"
   ]
  },
  {
   "cell_type": "code",
   "execution_count": 5,
   "id": "41e590e0",
   "metadata": {},
   "outputs": [
    {
     "data": {
      "text/html": [
       "<div>\n",
       "<style scoped>\n",
       "    .dataframe tbody tr th:only-of-type {\n",
       "        vertical-align: middle;\n",
       "    }\n",
       "\n",
       "    .dataframe tbody tr th {\n",
       "        vertical-align: top;\n",
       "    }\n",
       "\n",
       "    .dataframe thead th {\n",
       "        text-align: right;\n",
       "    }\n",
       "</style>\n",
       "<table border=\"1\" class=\"dataframe\">\n",
       "  <thead>\n",
       "    <tr style=\"text-align: right;\">\n",
       "      <th></th>\n",
       "      <th>Id</th>\n",
       "      <th>MSSubClass</th>\n",
       "      <th>MSZoning</th>\n",
       "      <th>LotFrontage</th>\n",
       "      <th>LotArea</th>\n",
       "      <th>Street</th>\n",
       "      <th>Alley</th>\n",
       "      <th>LotShape</th>\n",
       "      <th>LandContour</th>\n",
       "      <th>Utilities</th>\n",
       "      <th>...</th>\n",
       "      <th>PoolArea</th>\n",
       "      <th>PoolQC</th>\n",
       "      <th>Fence</th>\n",
       "      <th>MiscFeature</th>\n",
       "      <th>MiscVal</th>\n",
       "      <th>MoSold</th>\n",
       "      <th>YrSold</th>\n",
       "      <th>SaleType</th>\n",
       "      <th>SaleCondition</th>\n",
       "      <th>SalePrice</th>\n",
       "    </tr>\n",
       "  </thead>\n",
       "  <tbody>\n",
       "    <tr>\n",
       "      <th>0</th>\n",
       "      <td>1</td>\n",
       "      <td>60</td>\n",
       "      <td>RL</td>\n",
       "      <td>65.0</td>\n",
       "      <td>8450</td>\n",
       "      <td>Pave</td>\n",
       "      <td>NaN</td>\n",
       "      <td>Reg</td>\n",
       "      <td>Lvl</td>\n",
       "      <td>AllPub</td>\n",
       "      <td>...</td>\n",
       "      <td>0</td>\n",
       "      <td>NaN</td>\n",
       "      <td>NaN</td>\n",
       "      <td>NaN</td>\n",
       "      <td>0</td>\n",
       "      <td>2</td>\n",
       "      <td>2008</td>\n",
       "      <td>WD</td>\n",
       "      <td>Normal</td>\n",
       "      <td>208500</td>\n",
       "    </tr>\n",
       "    <tr>\n",
       "      <th>1</th>\n",
       "      <td>2</td>\n",
       "      <td>20</td>\n",
       "      <td>RL</td>\n",
       "      <td>80.0</td>\n",
       "      <td>9600</td>\n",
       "      <td>Pave</td>\n",
       "      <td>NaN</td>\n",
       "      <td>Reg</td>\n",
       "      <td>Lvl</td>\n",
       "      <td>AllPub</td>\n",
       "      <td>...</td>\n",
       "      <td>0</td>\n",
       "      <td>NaN</td>\n",
       "      <td>NaN</td>\n",
       "      <td>NaN</td>\n",
       "      <td>0</td>\n",
       "      <td>5</td>\n",
       "      <td>2007</td>\n",
       "      <td>WD</td>\n",
       "      <td>Normal</td>\n",
       "      <td>181500</td>\n",
       "    </tr>\n",
       "    <tr>\n",
       "      <th>2</th>\n",
       "      <td>3</td>\n",
       "      <td>60</td>\n",
       "      <td>RL</td>\n",
       "      <td>68.0</td>\n",
       "      <td>11250</td>\n",
       "      <td>Pave</td>\n",
       "      <td>NaN</td>\n",
       "      <td>IR1</td>\n",
       "      <td>Lvl</td>\n",
       "      <td>AllPub</td>\n",
       "      <td>...</td>\n",
       "      <td>0</td>\n",
       "      <td>NaN</td>\n",
       "      <td>NaN</td>\n",
       "      <td>NaN</td>\n",
       "      <td>0</td>\n",
       "      <td>9</td>\n",
       "      <td>2008</td>\n",
       "      <td>WD</td>\n",
       "      <td>Normal</td>\n",
       "      <td>223500</td>\n",
       "    </tr>\n",
       "    <tr>\n",
       "      <th>3</th>\n",
       "      <td>4</td>\n",
       "      <td>70</td>\n",
       "      <td>RL</td>\n",
       "      <td>60.0</td>\n",
       "      <td>9550</td>\n",
       "      <td>Pave</td>\n",
       "      <td>NaN</td>\n",
       "      <td>IR1</td>\n",
       "      <td>Lvl</td>\n",
       "      <td>AllPub</td>\n",
       "      <td>...</td>\n",
       "      <td>0</td>\n",
       "      <td>NaN</td>\n",
       "      <td>NaN</td>\n",
       "      <td>NaN</td>\n",
       "      <td>0</td>\n",
       "      <td>2</td>\n",
       "      <td>2006</td>\n",
       "      <td>WD</td>\n",
       "      <td>Abnorml</td>\n",
       "      <td>140000</td>\n",
       "    </tr>\n",
       "    <tr>\n",
       "      <th>4</th>\n",
       "      <td>5</td>\n",
       "      <td>60</td>\n",
       "      <td>RL</td>\n",
       "      <td>84.0</td>\n",
       "      <td>14260</td>\n",
       "      <td>Pave</td>\n",
       "      <td>NaN</td>\n",
       "      <td>IR1</td>\n",
       "      <td>Lvl</td>\n",
       "      <td>AllPub</td>\n",
       "      <td>...</td>\n",
       "      <td>0</td>\n",
       "      <td>NaN</td>\n",
       "      <td>NaN</td>\n",
       "      <td>NaN</td>\n",
       "      <td>0</td>\n",
       "      <td>12</td>\n",
       "      <td>2008</td>\n",
       "      <td>WD</td>\n",
       "      <td>Normal</td>\n",
       "      <td>250000</td>\n",
       "    </tr>\n",
       "  </tbody>\n",
       "</table>\n",
       "<p>5 rows × 81 columns</p>\n",
       "</div>"
      ],
      "text/plain": [
       "   Id  MSSubClass MSZoning  LotFrontage  LotArea Street Alley LotShape  \\\n",
       "0   1          60       RL         65.0     8450   Pave   NaN      Reg   \n",
       "1   2          20       RL         80.0     9600   Pave   NaN      Reg   \n",
       "2   3          60       RL         68.0    11250   Pave   NaN      IR1   \n",
       "3   4          70       RL         60.0     9550   Pave   NaN      IR1   \n",
       "4   5          60       RL         84.0    14260   Pave   NaN      IR1   \n",
       "\n",
       "  LandContour Utilities  ... PoolArea PoolQC Fence MiscFeature MiscVal MoSold  \\\n",
       "0         Lvl    AllPub  ...        0    NaN   NaN         NaN       0      2   \n",
       "1         Lvl    AllPub  ...        0    NaN   NaN         NaN       0      5   \n",
       "2         Lvl    AllPub  ...        0    NaN   NaN         NaN       0      9   \n",
       "3         Lvl    AllPub  ...        0    NaN   NaN         NaN       0      2   \n",
       "4         Lvl    AllPub  ...        0    NaN   NaN         NaN       0     12   \n",
       "\n",
       "  YrSold  SaleType  SaleCondition  SalePrice  \n",
       "0   2008        WD         Normal     208500  \n",
       "1   2007        WD         Normal     181500  \n",
       "2   2008        WD         Normal     223500  \n",
       "3   2006        WD        Abnorml     140000  \n",
       "4   2008        WD         Normal     250000  \n",
       "\n",
       "[5 rows x 81 columns]"
      ]
     },
     "execution_count": 5,
     "metadata": {},
     "output_type": "execute_result"
    }
   ],
   "source": [
    "train.head()"
   ]
  },
  {
   "cell_type": "code",
   "execution_count": 6,
   "id": "558ef3b9",
   "metadata": {},
   "outputs": [],
   "source": [
    "X_train = train.drop(['SalePrice'], axis = 1)\n",
    "y_train = train['SalePrice']"
   ]
  },
  {
   "cell_type": "code",
   "execution_count": 7,
   "id": "154007e6",
   "metadata": {},
   "outputs": [
    {
     "data": {
      "text/plain": [
       "0       208500\n",
       "1       181500\n",
       "2       223500\n",
       "3       140000\n",
       "4       250000\n",
       "         ...  \n",
       "1455    175000\n",
       "1456    210000\n",
       "1457    266500\n",
       "1458    142125\n",
       "1459    147500\n",
       "Name: SalePrice, Length: 1460, dtype: int64"
      ]
     },
     "execution_count": 7,
     "metadata": {},
     "output_type": "execute_result"
    }
   ],
   "source": [
    "X_train\n",
    "y_train"
   ]
  },
  {
   "cell_type": "code",
   "execution_count": 8,
   "id": "5bedd399",
   "metadata": {},
   "outputs": [],
   "source": [
    "# Kidobom az oszlopokat, ahol NaN értékek szerepelnek.\n",
    "\n",
    "nan_columns = [col for col in train.columns if train[col].isnull().sum() > 0]\n",
    "train = train.drop(nan_columns, axis = 1)"
   ]
  },
  {
   "cell_type": "code",
   "execution_count": 9,
   "id": "6ab6b15b",
   "metadata": {},
   "outputs": [
    {
     "data": {
      "text/html": [
       "<div>\n",
       "<style scoped>\n",
       "    .dataframe tbody tr th:only-of-type {\n",
       "        vertical-align: middle;\n",
       "    }\n",
       "\n",
       "    .dataframe tbody tr th {\n",
       "        vertical-align: top;\n",
       "    }\n",
       "\n",
       "    .dataframe thead th {\n",
       "        text-align: right;\n",
       "    }\n",
       "</style>\n",
       "<table border=\"1\" class=\"dataframe\">\n",
       "  <thead>\n",
       "    <tr style=\"text-align: right;\">\n",
       "      <th></th>\n",
       "      <th>Id</th>\n",
       "      <th>MSSubClass</th>\n",
       "      <th>MSZoning</th>\n",
       "      <th>LotArea</th>\n",
       "      <th>Street</th>\n",
       "      <th>LotShape</th>\n",
       "      <th>LandContour</th>\n",
       "      <th>Utilities</th>\n",
       "      <th>LotConfig</th>\n",
       "      <th>LandSlope</th>\n",
       "      <th>...</th>\n",
       "      <th>EnclosedPorch</th>\n",
       "      <th>3SsnPorch</th>\n",
       "      <th>ScreenPorch</th>\n",
       "      <th>PoolArea</th>\n",
       "      <th>MiscVal</th>\n",
       "      <th>MoSold</th>\n",
       "      <th>YrSold</th>\n",
       "      <th>SaleType</th>\n",
       "      <th>SaleCondition</th>\n",
       "      <th>SalePrice</th>\n",
       "    </tr>\n",
       "  </thead>\n",
       "  <tbody>\n",
       "    <tr>\n",
       "      <th>0</th>\n",
       "      <td>1</td>\n",
       "      <td>60</td>\n",
       "      <td>RL</td>\n",
       "      <td>8450</td>\n",
       "      <td>Pave</td>\n",
       "      <td>Reg</td>\n",
       "      <td>Lvl</td>\n",
       "      <td>AllPub</td>\n",
       "      <td>Inside</td>\n",
       "      <td>Gtl</td>\n",
       "      <td>...</td>\n",
       "      <td>0</td>\n",
       "      <td>0</td>\n",
       "      <td>0</td>\n",
       "      <td>0</td>\n",
       "      <td>0</td>\n",
       "      <td>2</td>\n",
       "      <td>2008</td>\n",
       "      <td>WD</td>\n",
       "      <td>Normal</td>\n",
       "      <td>208500</td>\n",
       "    </tr>\n",
       "    <tr>\n",
       "      <th>1</th>\n",
       "      <td>2</td>\n",
       "      <td>20</td>\n",
       "      <td>RL</td>\n",
       "      <td>9600</td>\n",
       "      <td>Pave</td>\n",
       "      <td>Reg</td>\n",
       "      <td>Lvl</td>\n",
       "      <td>AllPub</td>\n",
       "      <td>FR2</td>\n",
       "      <td>Gtl</td>\n",
       "      <td>...</td>\n",
       "      <td>0</td>\n",
       "      <td>0</td>\n",
       "      <td>0</td>\n",
       "      <td>0</td>\n",
       "      <td>0</td>\n",
       "      <td>5</td>\n",
       "      <td>2007</td>\n",
       "      <td>WD</td>\n",
       "      <td>Normal</td>\n",
       "      <td>181500</td>\n",
       "    </tr>\n",
       "    <tr>\n",
       "      <th>2</th>\n",
       "      <td>3</td>\n",
       "      <td>60</td>\n",
       "      <td>RL</td>\n",
       "      <td>11250</td>\n",
       "      <td>Pave</td>\n",
       "      <td>IR1</td>\n",
       "      <td>Lvl</td>\n",
       "      <td>AllPub</td>\n",
       "      <td>Inside</td>\n",
       "      <td>Gtl</td>\n",
       "      <td>...</td>\n",
       "      <td>0</td>\n",
       "      <td>0</td>\n",
       "      <td>0</td>\n",
       "      <td>0</td>\n",
       "      <td>0</td>\n",
       "      <td>9</td>\n",
       "      <td>2008</td>\n",
       "      <td>WD</td>\n",
       "      <td>Normal</td>\n",
       "      <td>223500</td>\n",
       "    </tr>\n",
       "    <tr>\n",
       "      <th>3</th>\n",
       "      <td>4</td>\n",
       "      <td>70</td>\n",
       "      <td>RL</td>\n",
       "      <td>9550</td>\n",
       "      <td>Pave</td>\n",
       "      <td>IR1</td>\n",
       "      <td>Lvl</td>\n",
       "      <td>AllPub</td>\n",
       "      <td>Corner</td>\n",
       "      <td>Gtl</td>\n",
       "      <td>...</td>\n",
       "      <td>272</td>\n",
       "      <td>0</td>\n",
       "      <td>0</td>\n",
       "      <td>0</td>\n",
       "      <td>0</td>\n",
       "      <td>2</td>\n",
       "      <td>2006</td>\n",
       "      <td>WD</td>\n",
       "      <td>Abnorml</td>\n",
       "      <td>140000</td>\n",
       "    </tr>\n",
       "    <tr>\n",
       "      <th>4</th>\n",
       "      <td>5</td>\n",
       "      <td>60</td>\n",
       "      <td>RL</td>\n",
       "      <td>14260</td>\n",
       "      <td>Pave</td>\n",
       "      <td>IR1</td>\n",
       "      <td>Lvl</td>\n",
       "      <td>AllPub</td>\n",
       "      <td>FR2</td>\n",
       "      <td>Gtl</td>\n",
       "      <td>...</td>\n",
       "      <td>0</td>\n",
       "      <td>0</td>\n",
       "      <td>0</td>\n",
       "      <td>0</td>\n",
       "      <td>0</td>\n",
       "      <td>12</td>\n",
       "      <td>2008</td>\n",
       "      <td>WD</td>\n",
       "      <td>Normal</td>\n",
       "      <td>250000</td>\n",
       "    </tr>\n",
       "  </tbody>\n",
       "</table>\n",
       "<p>5 rows × 62 columns</p>\n",
       "</div>"
      ],
      "text/plain": [
       "   Id  MSSubClass MSZoning  LotArea Street LotShape LandContour Utilities  \\\n",
       "0   1          60       RL     8450   Pave      Reg         Lvl    AllPub   \n",
       "1   2          20       RL     9600   Pave      Reg         Lvl    AllPub   \n",
       "2   3          60       RL    11250   Pave      IR1         Lvl    AllPub   \n",
       "3   4          70       RL     9550   Pave      IR1         Lvl    AllPub   \n",
       "4   5          60       RL    14260   Pave      IR1         Lvl    AllPub   \n",
       "\n",
       "  LotConfig LandSlope  ... EnclosedPorch 3SsnPorch ScreenPorch PoolArea  \\\n",
       "0    Inside       Gtl  ...             0         0           0        0   \n",
       "1       FR2       Gtl  ...             0         0           0        0   \n",
       "2    Inside       Gtl  ...             0         0           0        0   \n",
       "3    Corner       Gtl  ...           272         0           0        0   \n",
       "4       FR2       Gtl  ...             0         0           0        0   \n",
       "\n",
       "  MiscVal  MoSold  YrSold  SaleType  SaleCondition SalePrice  \n",
       "0       0       2    2008        WD         Normal    208500  \n",
       "1       0       5    2007        WD         Normal    181500  \n",
       "2       0       9    2008        WD         Normal    223500  \n",
       "3       0       2    2006        WD        Abnorml    140000  \n",
       "4       0      12    2008        WD         Normal    250000  \n",
       "\n",
       "[5 rows x 62 columns]"
      ]
     },
     "execution_count": 9,
     "metadata": {},
     "output_type": "execute_result"
    }
   ],
   "source": [
    "# A 81 oszlopból már csak 61 maradt meg.\n",
    "\n",
    "train.head()"
   ]
  },
  {
   "cell_type": "code",
   "execution_count": 10,
   "id": "cf45ba80",
   "metadata": {},
   "outputs": [],
   "source": [
    "X = train.drop('SalePrice', axis = 1)\n",
    "y = train['SalePrice']"
   ]
  },
  {
   "cell_type": "code",
   "execution_count": 11,
   "id": "638bcc7a",
   "metadata": {},
   "outputs": [],
   "source": [
    "X_train, X_test, y_train, y_test = train_test_split(X, y)"
   ]
  },
  {
   "cell_type": "code",
   "execution_count": 12,
   "id": "759de6ef",
   "metadata": {},
   "outputs": [
    {
     "name": "stdout",
     "output_type": "stream",
     "text": [
      "(1095, 61) (365, 61) (1095,) (365,)\n"
     ]
    }
   ],
   "source": [
    "print(X_train.shape, X_test.shape, y_train.shape, y_test.shape)"
   ]
  },
  {
   "cell_type": "markdown",
   "id": "1e8b2810",
   "metadata": {},
   "source": [
    "### Random Forest"
   ]
  },
  {
   "cell_type": "code",
   "execution_count": 40,
   "id": "48419240",
   "metadata": {},
   "outputs": [
    {
     "data": {
      "text/plain": [
       "22766.27920547945"
      ]
     },
     "execution_count": 40,
     "metadata": {},
     "output_type": "execute_result"
    }
   ],
   "source": [
    "tree_based_prediction(X,y, core_model = RandomForestRegressor())"
   ]
  },
  {
   "cell_type": "markdown",
   "id": "827dc044",
   "metadata": {},
   "source": [
    "### Gradient Boosted Tree"
   ]
  },
  {
   "cell_type": "code",
   "execution_count": 14,
   "id": "fedafbfb",
   "metadata": {},
   "outputs": [
    {
     "data": {
      "text/plain": [
       "22457.543186849678"
      ]
     },
     "execution_count": 14,
     "metadata": {},
     "output_type": "execute_result"
    }
   ],
   "source": [
    "tree_based_prediction(X,y, core_model = GradientBoostingRegressor())"
   ]
  },
  {
   "cell_type": "markdown",
   "id": "268d3af0",
   "metadata": {},
   "source": [
    "### AdaBoost"
   ]
  },
  {
   "cell_type": "code",
   "execution_count": 15,
   "id": "ed3432cb",
   "metadata": {},
   "outputs": [
    {
     "data": {
      "text/plain": [
       "31162.243009518108"
      ]
     },
     "execution_count": 15,
     "metadata": {},
     "output_type": "execute_result"
    }
   ],
   "source": [
    "tree_based_prediction(X,y, core_model = AdaBoostRegressor())"
   ]
  },
  {
   "cell_type": "markdown",
   "id": "76e66ae5",
   "metadata": {},
   "source": [
    "### XGBoost"
   ]
  },
  {
   "cell_type": "code",
   "execution_count": 16,
   "id": "f03520ee",
   "metadata": {},
   "outputs": [
    {
     "data": {
      "text/plain": [
       "22855.914897260274"
      ]
     },
     "execution_count": 16,
     "metadata": {},
     "output_type": "execute_result"
    }
   ],
   "source": [
    "tree_based_prediction(X,y, core_model = XGBRegressor())"
   ]
  },
  {
   "cell_type": "markdown",
   "id": "f088316b",
   "metadata": {},
   "source": [
    "## Bayesian Optimization - Random Forest"
   ]
  },
  {
   "cell_type": "code",
   "execution_count": 28,
   "id": "81192bab",
   "metadata": {},
   "outputs": [],
   "source": [
    "rf_search_space = {\n",
    "    \"n_estimators\": hp.randint(\"n_estimators\", 200, 1000),\n",
    "    \"max_depth\": hp.randint(\"max_depth\", 1, 8),\n",
    "    \"min_samples_split\": hp.randint(\"min_samples_split\", 20, 100),\n",
    "    \"min_samples_leaf\": hp.uniform(\"min_samples_leaf\", 0, 0.5),\n",
    "    \"max_features\": hp.uniform(\"max_features\", 0.05, 0.6),\n",
    "    \"min_impurity_decrease\": hp.uniform(\"min_impurity_decrease\", 0, 0.3),\n",
    "    \"bootstrap\": hp.choice(\"bootstrap\", [True, False])\n",
    "\n",
    "}"
   ]
  },
  {
   "cell_type": "code",
   "execution_count": 29,
   "id": "522e8925",
   "metadata": {},
   "outputs": [],
   "source": [
    "def black_box_fn(search_space_point):\n",
    "    return tree_based_prediction(\n",
    "        X,\n",
    "        y,\n",
    "        core_model=RandomForestRegressor(**search_space_point)\n",
    "    )"
   ]
  },
  {
   "cell_type": "code",
   "execution_count": 30,
   "id": "1e269b33",
   "metadata": {},
   "outputs": [
    {
     "name": "stdout",
     "output_type": "stream",
     "text": [
      "100%|█████████| 50/50 [00:42<00:00,  1.18trial/s, best loss: 27666.072328145536]\n"
     ]
    }
   ],
   "source": [
    "best_params_rf = fmin(\n",
    "  fn=black_box_fn,\n",
    "  space=rf_search_space,\n",
    "  algo=tpe.suggest,\n",
    "  max_evals=50)"
   ]
  },
  {
   "cell_type": "code",
   "execution_count": 31,
   "id": "ca988260",
   "metadata": {},
   "outputs": [
    {
     "data": {
      "text/plain": [
       "{'bootstrap': 1,\n",
       " 'max_depth': 5,\n",
       " 'max_features': 0.24560896063009216,\n",
       " 'min_impurity_decrease': 0.24357551910242103,\n",
       " 'min_samples_leaf': 0.09129141203594165,\n",
       " 'min_samples_split': 25,\n",
       " 'n_estimators': 618}"
      ]
     },
     "execution_count": 31,
     "metadata": {},
     "output_type": "execute_result"
    }
   ],
   "source": [
    "best_params_rf"
   ]
  },
  {
   "cell_type": "code",
   "execution_count": 42,
   "id": "98b0e451",
   "metadata": {},
   "outputs": [
    {
     "data": {
      "text/plain": [
       "35655.33760986302"
      ]
     },
     "execution_count": 42,
     "metadata": {},
     "output_type": "execute_result"
    }
   ],
   "source": [
    "tree_based_prediction(X,y, core_model = RandomForestRegressor(**best_params_rf))"
   ]
  },
  {
   "cell_type": "markdown",
   "id": "3efdea11",
   "metadata": {},
   "source": [
    "## Bayesian Optimization - Gradien Boosted Tree"
   ]
  },
  {
   "cell_type": "code",
   "execution_count": 49,
   "id": "99841824",
   "metadata": {},
   "outputs": [],
   "source": [
    "gbt_search_space = {\n",
    "    \"learning_rate\": hp.loguniform('learning_rate',0.1, 1),\n",
    "    \"n_estimators\": hp.randint(\"n_estimators\", 200, 1000),  \n",
    "    \"max_depth\": hp.randint(\"max_depth\", 1, 8),\n",
    "    \"min_samples_split\": hp.randint(\"min_samples_split\", 20, 100),\n",
    "    \"min_samples_leaf\": hp.uniform(\"min_samples_leaf\", 0, 0.5),\n",
    "    \"max_features\": hp.uniform(\"max_features\", 0.05, 0.6),\n",
    "    \"min_impurity_decrease\": hp.uniform(\"min_impurity_decrease\", 0, 0.3)\n",
    "}"
   ]
  },
  {
   "cell_type": "code",
   "execution_count": 50,
   "id": "a3cb961c",
   "metadata": {},
   "outputs": [],
   "source": [
    "def black_box_fn(search_space_point):\n",
    "    return tree_based_prediction(\n",
    "        X,\n",
    "        y,\n",
    "        core_model=GradientBoostingRegressor(**search_space_point)\n",
    "    )"
   ]
  },
  {
   "cell_type": "code",
   "execution_count": 55,
   "id": "e2a6c037",
   "metadata": {},
   "outputs": [
    {
     "name": "stdout",
     "output_type": "stream",
     "text": [
      " 62%|██████▏   | 31/50 [00:17<00:06,  2.86trial/s, best loss: 22587.10587036188]"
     ]
    },
    {
     "name": "stderr",
     "output_type": "stream",
     "text": [
      "/Users/petripeter/opt/anaconda3/lib/python3.9/site-packages/numpy/core/fromnumeric.py:87: RuntimeWarning: overflow encountered in reduce\n",
      "  return ufunc.reduce(obj, axis, dtype, out, **passkwargs)\n",
      "\n",
      "/Users/petripeter/opt/anaconda3/lib/python3.9/site-packages/numpy/core/fromnumeric.py:87: RuntimeWarning: overflow encountered in reduce\n",
      "  return ufunc.reduce(obj, axis, dtype, out, **passkwargs)\n",
      "\n",
      "/Users/petripeter/opt/anaconda3/lib/python3.9/site-packages/numpy/core/fromnumeric.py:87: RuntimeWarning: overflow encountered in reduce\n",
      "  return ufunc.reduce(obj, axis, dtype, out, **passkwargs)\n",
      "\n",
      "/Users/petripeter/opt/anaconda3/lib/python3.9/site-packages/numpy/core/fromnumeric.py:87: RuntimeWarning: overflow encountered in reduce\n",
      "  return ufunc.reduce(obj, axis, dtype, out, **passkwargs)\n",
      "\n",
      "/Users/petripeter/opt/anaconda3/lib/python3.9/site-packages/numpy/core/fromnumeric.py:87: RuntimeWarning: overflow encountered in reduce\n",
      "  return ufunc.reduce(obj, axis, dtype, out, **passkwargs)\n",
      "\n",
      "/Users/petripeter/opt/anaconda3/lib/python3.9/site-packages/numpy/core/fromnumeric.py:87: RuntimeWarning: overflow encountered in reduce\n",
      "  return ufunc.reduce(obj, axis, dtype, out, **passkwargs)\n",
      "\n",
      "/Users/petripeter/opt/anaconda3/lib/python3.9/site-packages/numpy/core/fromnumeric.py:87: RuntimeWarning: overflow encountered in reduce\n",
      "  return ufunc.reduce(obj, axis, dtype, out, **passkwargs)\n",
      "\n",
      "/Users/petripeter/opt/anaconda3/lib/python3.9/site-packages/sklearn/ensemble/_gb_losses.py:202: RuntimeWarning: overflow encountered in square\n",
      "  sample_weight * ((y - raw_predictions.ravel()) ** 2)))\n",
      "\n",
      "/Users/petripeter/opt/anaconda3/lib/python3.9/site-packages/sklearn/ensemble/_gb_losses.py:202: RuntimeWarning: overflow encountered in square\n",
      "  sample_weight * ((y - raw_predictions.ravel()) ** 2)))\n",
      "\n",
      "/Users/petripeter/opt/anaconda3/lib/python3.9/site-packages/sklearn/ensemble/_gb_losses.py:202: RuntimeWarning: overflow encountered in square\n",
      "  sample_weight * ((y - raw_predictions.ravel()) ** 2)))\n",
      "\n",
      "/Users/petripeter/opt/anaconda3/lib/python3.9/site-packages/sklearn/ensemble/_gb_losses.py:202: RuntimeWarning: overflow encountered in square\n",
      "  sample_weight * ((y - raw_predictions.ravel()) ** 2)))\n",
      "\n",
      "/Users/petripeter/opt/anaconda3/lib/python3.9/site-packages/sklearn/ensemble/_gb_losses.py:202: RuntimeWarning: overflow encountered in square\n",
      "  sample_weight * ((y - raw_predictions.ravel()) ** 2)))\n",
      "\n",
      "/Users/petripeter/opt/anaconda3/lib/python3.9/site-packages/sklearn/ensemble/_gb_losses.py:202: RuntimeWarning: overflow encountered in square\n",
      "  sample_weight * ((y - raw_predictions.ravel()) ** 2)))\n",
      "\n",
      "/Users/petripeter/opt/anaconda3/lib/python3.9/site-packages/sklearn/ensemble/_gb_losses.py:202: RuntimeWarning: overflow encountered in square\n",
      "  sample_weight * ((y - raw_predictions.ravel()) ** 2)))\n",
      "\n",
      "/Users/petripeter/opt/anaconda3/lib/python3.9/site-packages/sklearn/ensemble/_gb_losses.py:202: RuntimeWarning: overflow encountered in square\n",
      "  sample_weight * ((y - raw_predictions.ravel()) ** 2)))\n",
      "\n",
      "/Users/petripeter/opt/anaconda3/lib/python3.9/site-packages/sklearn/ensemble/_gb_losses.py:202: RuntimeWarning: overflow encountered in square\n",
      "  sample_weight * ((y - raw_predictions.ravel()) ** 2)))\n",
      "\n",
      "/Users/petripeter/opt/anaconda3/lib/python3.9/site-packages/sklearn/ensemble/_gb_losses.py:202: RuntimeWarning: overflow encountered in square\n",
      "  sample_weight * ((y - raw_predictions.ravel()) ** 2)))\n",
      "\n",
      "/Users/petripeter/opt/anaconda3/lib/python3.9/site-packages/sklearn/ensemble/_gb_losses.py:202: RuntimeWarning: overflow encountered in square\n",
      "  sample_weight * ((y - raw_predictions.ravel()) ** 2)))\n",
      "\n",
      "/Users/petripeter/opt/anaconda3/lib/python3.9/site-packages/sklearn/ensemble/_gb_losses.py:202: RuntimeWarning: overflow encountered in square\n",
      "  sample_weight * ((y - raw_predictions.ravel()) ** 2)))\n",
      "\n"
     ]
    },
    {
     "name": "stdout",
     "output_type": "stream",
     "text": [
      " 92%|█████████▏| 46/50 [00:28<00:02,  1.42trial/s, best loss: 22587.10587036188]"
     ]
    },
    {
     "name": "stderr",
     "output_type": "stream",
     "text": [
      "/Users/petripeter/opt/anaconda3/lib/python3.9/site-packages/numpy/core/fromnumeric.py:87: RuntimeWarning: overflow encountered in reduce\n",
      "  return ufunc.reduce(obj, axis, dtype, out, **passkwargs)\n",
      "\n",
      "/Users/petripeter/opt/anaconda3/lib/python3.9/site-packages/numpy/core/fromnumeric.py:87: RuntimeWarning: overflow encountered in reduce\n",
      "  return ufunc.reduce(obj, axis, dtype, out, **passkwargs)\n",
      "\n",
      "/Users/petripeter/opt/anaconda3/lib/python3.9/site-packages/numpy/core/fromnumeric.py:87: RuntimeWarning: overflow encountered in reduce\n",
      "  return ufunc.reduce(obj, axis, dtype, out, **passkwargs)\n",
      "\n",
      "/Users/petripeter/opt/anaconda3/lib/python3.9/site-packages/numpy/core/fromnumeric.py:87: RuntimeWarning: overflow encountered in reduce\n",
      "  return ufunc.reduce(obj, axis, dtype, out, **passkwargs)\n",
      "\n",
      "/Users/petripeter/opt/anaconda3/lib/python3.9/site-packages/numpy/core/fromnumeric.py:87: RuntimeWarning: overflow encountered in reduce\n",
      "  return ufunc.reduce(obj, axis, dtype, out, **passkwargs)\n",
      "\n",
      "/Users/petripeter/opt/anaconda3/lib/python3.9/site-packages/numpy/core/fromnumeric.py:87: RuntimeWarning: overflow encountered in reduce\n",
      "  return ufunc.reduce(obj, axis, dtype, out, **passkwargs)\n",
      "\n",
      "/Users/petripeter/opt/anaconda3/lib/python3.9/site-packages/numpy/core/fromnumeric.py:87: RuntimeWarning: overflow encountered in reduce\n",
      "  return ufunc.reduce(obj, axis, dtype, out, **passkwargs)\n",
      "\n",
      "/Users/petripeter/opt/anaconda3/lib/python3.9/site-packages/sklearn/ensemble/_gb_losses.py:202: RuntimeWarning: overflow encountered in square\n",
      "  sample_weight * ((y - raw_predictions.ravel()) ** 2)))\n",
      "\n",
      "/Users/petripeter/opt/anaconda3/lib/python3.9/site-packages/sklearn/ensemble/_gb_losses.py:202: RuntimeWarning: overflow encountered in square\n",
      "  sample_weight * ((y - raw_predictions.ravel()) ** 2)))\n",
      "\n",
      "/Users/petripeter/opt/anaconda3/lib/python3.9/site-packages/sklearn/ensemble/_gb_losses.py:202: RuntimeWarning: overflow encountered in square\n",
      "  sample_weight * ((y - raw_predictions.ravel()) ** 2)))\n",
      "\n",
      "/Users/petripeter/opt/anaconda3/lib/python3.9/site-packages/sklearn/ensemble/_gb_losses.py:202: RuntimeWarning: overflow encountered in square\n",
      "  sample_weight * ((y - raw_predictions.ravel()) ** 2)))\n",
      "\n",
      "/Users/petripeter/opt/anaconda3/lib/python3.9/site-packages/sklearn/ensemble/_gb_losses.py:202: RuntimeWarning: overflow encountered in square\n",
      "  sample_weight * ((y - raw_predictions.ravel()) ** 2)))\n",
      "\n",
      "/Users/petripeter/opt/anaconda3/lib/python3.9/site-packages/sklearn/ensemble/_gb_losses.py:202: RuntimeWarning: overflow encountered in square\n",
      "  sample_weight * ((y - raw_predictions.ravel()) ** 2)))\n",
      "\n",
      "/Users/petripeter/opt/anaconda3/lib/python3.9/site-packages/sklearn/ensemble/_gb_losses.py:202: RuntimeWarning: overflow encountered in square\n",
      "  sample_weight * ((y - raw_predictions.ravel()) ** 2)))\n",
      "\n",
      "/Users/petripeter/opt/anaconda3/lib/python3.9/site-packages/sklearn/ensemble/_gb_losses.py:202: RuntimeWarning: overflow encountered in square\n",
      "  sample_weight * ((y - raw_predictions.ravel()) ** 2)))\n",
      "\n",
      "/Users/petripeter/opt/anaconda3/lib/python3.9/site-packages/sklearn/ensemble/_gb_losses.py:202: RuntimeWarning: overflow encountered in square\n",
      "  sample_weight * ((y - raw_predictions.ravel()) ** 2)))\n",
      "\n",
      "/Users/petripeter/opt/anaconda3/lib/python3.9/site-packages/sklearn/ensemble/_gb_losses.py:202: RuntimeWarning: overflow encountered in square\n",
      "  sample_weight * ((y - raw_predictions.ravel()) ** 2)))\n",
      "\n",
      "/Users/petripeter/opt/anaconda3/lib/python3.9/site-packages/sklearn/ensemble/_gb_losses.py:202: RuntimeWarning: overflow encountered in square\n",
      "  sample_weight * ((y - raw_predictions.ravel()) ** 2)))\n",
      "\n",
      "/Users/petripeter/opt/anaconda3/lib/python3.9/site-packages/sklearn/ensemble/_gb_losses.py:202: RuntimeWarning: overflow encountered in square\n",
      "  sample_weight * ((y - raw_predictions.ravel()) ** 2)))\n",
      "\n",
      "/Users/petripeter/opt/anaconda3/lib/python3.9/site-packages/sklearn/ensemble/_gb_losses.py:202: RuntimeWarning: overflow encountered in square\n",
      "  sample_weight * ((y - raw_predictions.ravel()) ** 2)))\n",
      "\n",
      "/Users/petripeter/opt/anaconda3/lib/python3.9/site-packages/sklearn/ensemble/_gb_losses.py:202: RuntimeWarning: overflow encountered in square\n",
      "  sample_weight * ((y - raw_predictions.ravel()) ** 2)))\n",
      "\n",
      "/Users/petripeter/opt/anaconda3/lib/python3.9/site-packages/sklearn/ensemble/_gb_losses.py:202: RuntimeWarning: overflow encountered in square\n",
      "  sample_weight * ((y - raw_predictions.ravel()) ** 2)))\n",
      "\n",
      "/Users/petripeter/opt/anaconda3/lib/python3.9/site-packages/sklearn/ensemble/_gb_losses.py:202: RuntimeWarning: overflow encountered in square\n",
      "  sample_weight * ((y - raw_predictions.ravel()) ** 2)))\n",
      "\n",
      "/Users/petripeter/opt/anaconda3/lib/python3.9/site-packages/sklearn/ensemble/_gb_losses.py:202: RuntimeWarning: overflow encountered in square\n",
      "  sample_weight * ((y - raw_predictions.ravel()) ** 2)))\n",
      "\n",
      "/Users/petripeter/opt/anaconda3/lib/python3.9/site-packages/sklearn/ensemble/_gb_losses.py:202: RuntimeWarning: overflow encountered in square\n",
      "  sample_weight * ((y - raw_predictions.ravel()) ** 2)))\n",
      "\n",
      "/Users/petripeter/opt/anaconda3/lib/python3.9/site-packages/sklearn/ensemble/_gb_losses.py:202: RuntimeWarning: overflow encountered in square\n",
      "  sample_weight * ((y - raw_predictions.ravel()) ** 2)))\n",
      "\n",
      "/Users/petripeter/opt/anaconda3/lib/python3.9/site-packages/sklearn/ensemble/_gb_losses.py:202: RuntimeWarning: overflow encountered in square\n",
      "  sample_weight * ((y - raw_predictions.ravel()) ** 2)))\n",
      "\n",
      "/Users/petripeter/opt/anaconda3/lib/python3.9/site-packages/sklearn/ensemble/_gb_losses.py:202: RuntimeWarning: overflow encountered in square\n",
      "  sample_weight * ((y - raw_predictions.ravel()) ** 2)))\n",
      "\n",
      "/Users/petripeter/opt/anaconda3/lib/python3.9/site-packages/sklearn/ensemble/_gb_losses.py:202: RuntimeWarning: overflow encountered in square\n",
      "  sample_weight * ((y - raw_predictions.ravel()) ** 2)))\n",
      "\n",
      "/Users/petripeter/opt/anaconda3/lib/python3.9/site-packages/sklearn/ensemble/_gb_losses.py:202: RuntimeWarning: overflow encountered in square\n",
      "  sample_weight * ((y - raw_predictions.ravel()) ** 2)))\n",
      "\n",
      "/Users/petripeter/opt/anaconda3/lib/python3.9/site-packages/sklearn/ensemble/_gb_losses.py:202: RuntimeWarning: overflow encountered in square\n",
      "  sample_weight * ((y - raw_predictions.ravel()) ** 2)))\n",
      "\n",
      "/Users/petripeter/opt/anaconda3/lib/python3.9/site-packages/sklearn/ensemble/_gb_losses.py:202: RuntimeWarning: overflow encountered in square\n",
      "  sample_weight * ((y - raw_predictions.ravel()) ** 2)))\n",
      "\n",
      "/Users/petripeter/opt/anaconda3/lib/python3.9/site-packages/sklearn/ensemble/_gb_losses.py:202: RuntimeWarning: overflow encountered in square\n",
      "  sample_weight * ((y - raw_predictions.ravel()) ** 2)))\n",
      "\n",
      "/Users/petripeter/opt/anaconda3/lib/python3.9/site-packages/sklearn/ensemble/_gb_losses.py:202: RuntimeWarning: overflow encountered in square\n",
      "  sample_weight * ((y - raw_predictions.ravel()) ** 2)))\n",
      "\n",
      "/Users/petripeter/opt/anaconda3/lib/python3.9/site-packages/sklearn/ensemble/_gb_losses.py:202: RuntimeWarning: overflow encountered in square\n",
      "  sample_weight * ((y - raw_predictions.ravel()) ** 2)))\n",
      "\n",
      "/Users/petripeter/opt/anaconda3/lib/python3.9/site-packages/sklearn/ensemble/_gb_losses.py:202: RuntimeWarning: overflow encountered in square\n",
      "  sample_weight * ((y - raw_predictions.ravel()) ** 2)))\n",
      "\n",
      "/Users/petripeter/opt/anaconda3/lib/python3.9/site-packages/sklearn/ensemble/_gb_losses.py:202: RuntimeWarning: overflow encountered in square\n",
      "  sample_weight * ((y - raw_predictions.ravel()) ** 2)))\n",
      "\n",
      "/Users/petripeter/opt/anaconda3/lib/python3.9/site-packages/sklearn/ensemble/_gb_losses.py:202: RuntimeWarning: overflow encountered in square\n",
      "  sample_weight * ((y - raw_predictions.ravel()) ** 2)))\n",
      "\n",
      "/Users/petripeter/opt/anaconda3/lib/python3.9/site-packages/sklearn/ensemble/_gb_losses.py:202: RuntimeWarning: overflow encountered in square\n",
      "  sample_weight * ((y - raw_predictions.ravel()) ** 2)))\n",
      "\n",
      "/Users/petripeter/opt/anaconda3/lib/python3.9/site-packages/sklearn/ensemble/_gb_losses.py:202: RuntimeWarning: overflow encountered in square\n",
      "  sample_weight * ((y - raw_predictions.ravel()) ** 2)))\n",
      "\n",
      "/Users/petripeter/opt/anaconda3/lib/python3.9/site-packages/sklearn/ensemble/_gb_losses.py:202: RuntimeWarning: overflow encountered in square\n",
      "  sample_weight * ((y - raw_predictions.ravel()) ** 2)))\n",
      "\n",
      "/Users/petripeter/opt/anaconda3/lib/python3.9/site-packages/sklearn/ensemble/_gb_losses.py:202: RuntimeWarning: overflow encountered in square\n",
      "  sample_weight * ((y - raw_predictions.ravel()) ** 2)))\n",
      "\n",
      "/Users/petripeter/opt/anaconda3/lib/python3.9/site-packages/sklearn/ensemble/_gb_losses.py:202: RuntimeWarning: overflow encountered in square\n",
      "  sample_weight * ((y - raw_predictions.ravel()) ** 2)))\n",
      "\n",
      "/Users/petripeter/opt/anaconda3/lib/python3.9/site-packages/sklearn/ensemble/_gb_losses.py:202: RuntimeWarning: overflow encountered in square\n",
      "  sample_weight * ((y - raw_predictions.ravel()) ** 2)))\n",
      "\n",
      "/Users/petripeter/opt/anaconda3/lib/python3.9/site-packages/sklearn/ensemble/_gb_losses.py:202: RuntimeWarning: overflow encountered in square\n",
      "  sample_weight * ((y - raw_predictions.ravel()) ** 2)))\n",
      "\n",
      "/Users/petripeter/opt/anaconda3/lib/python3.9/site-packages/sklearn/ensemble/_gb_losses.py:202: RuntimeWarning: overflow encountered in square\n",
      "  sample_weight * ((y - raw_predictions.ravel()) ** 2)))\n",
      "\n",
      "/Users/petripeter/opt/anaconda3/lib/python3.9/site-packages/sklearn/ensemble/_gb_losses.py:202: RuntimeWarning: overflow encountered in square\n",
      "  sample_weight * ((y - raw_predictions.ravel()) ** 2)))\n",
      "\n",
      "/Users/petripeter/opt/anaconda3/lib/python3.9/site-packages/sklearn/ensemble/_gb_losses.py:202: RuntimeWarning: overflow encountered in square\n",
      "  sample_weight * ((y - raw_predictions.ravel()) ** 2)))\n",
      "\n",
      "/Users/petripeter/opt/anaconda3/lib/python3.9/site-packages/sklearn/ensemble/_gb_losses.py:202: RuntimeWarning: overflow encountered in square\n",
      "  sample_weight * ((y - raw_predictions.ravel()) ** 2)))\n",
      "\n",
      "/Users/petripeter/opt/anaconda3/lib/python3.9/site-packages/sklearn/ensemble/_gb_losses.py:202: RuntimeWarning: overflow encountered in square\n",
      "  sample_weight * ((y - raw_predictions.ravel()) ** 2)))\n",
      "\n",
      "/Users/petripeter/opt/anaconda3/lib/python3.9/site-packages/sklearn/ensemble/_gb_losses.py:202: RuntimeWarning: overflow encountered in square\n",
      "  sample_weight * ((y - raw_predictions.ravel()) ** 2)))\n",
      "\n",
      "/Users/petripeter/opt/anaconda3/lib/python3.9/site-packages/sklearn/ensemble/_gb_losses.py:202: RuntimeWarning: overflow encountered in square\n",
      "  sample_weight * ((y - raw_predictions.ravel()) ** 2)))\n",
      "\n",
      "/Users/petripeter/opt/anaconda3/lib/python3.9/site-packages/sklearn/ensemble/_gb_losses.py:202: RuntimeWarning: overflow encountered in square\n",
      "  sample_weight * ((y - raw_predictions.ravel()) ** 2)))\n",
      "\n",
      "/Users/petripeter/opt/anaconda3/lib/python3.9/site-packages/sklearn/ensemble/_gb_losses.py:202: RuntimeWarning: overflow encountered in square\n",
      "  sample_weight * ((y - raw_predictions.ravel()) ** 2)))\n",
      "\n",
      "/Users/petripeter/opt/anaconda3/lib/python3.9/site-packages/sklearn/ensemble/_gb_losses.py:202: RuntimeWarning: overflow encountered in square\n",
      "  sample_weight * ((y - raw_predictions.ravel()) ** 2)))\n",
      "\n",
      "/Users/petripeter/opt/anaconda3/lib/python3.9/site-packages/sklearn/ensemble/_gb_losses.py:202: RuntimeWarning: overflow encountered in square\n",
      "  sample_weight * ((y - raw_predictions.ravel()) ** 2)))\n",
      "\n",
      "/Users/petripeter/opt/anaconda3/lib/python3.9/site-packages/sklearn/ensemble/_gb_losses.py:202: RuntimeWarning: overflow encountered in square\n",
      "  sample_weight * ((y - raw_predictions.ravel()) ** 2)))\n",
      "\n",
      "/Users/petripeter/opt/anaconda3/lib/python3.9/site-packages/sklearn/ensemble/_gb_losses.py:202: RuntimeWarning: overflow encountered in square\n",
      "  sample_weight * ((y - raw_predictions.ravel()) ** 2)))\n",
      "\n",
      "/Users/petripeter/opt/anaconda3/lib/python3.9/site-packages/sklearn/ensemble/_gb_losses.py:202: RuntimeWarning: overflow encountered in square\n",
      "  sample_weight * ((y - raw_predictions.ravel()) ** 2)))\n",
      "\n",
      "/Users/petripeter/opt/anaconda3/lib/python3.9/site-packages/sklearn/ensemble/_gb_losses.py:202: RuntimeWarning: overflow encountered in square\n",
      "  sample_weight * ((y - raw_predictions.ravel()) ** 2)))\n",
      "\n",
      "/Users/petripeter/opt/anaconda3/lib/python3.9/site-packages/sklearn/ensemble/_gb_losses.py:202: RuntimeWarning: overflow encountered in square\n",
      "  sample_weight * ((y - raw_predictions.ravel()) ** 2)))\n",
      "\n",
      "/Users/petripeter/opt/anaconda3/lib/python3.9/site-packages/sklearn/ensemble/_gb_losses.py:202: RuntimeWarning: overflow encountered in square\n",
      "  sample_weight * ((y - raw_predictions.ravel()) ** 2)))\n",
      "\n",
      "/Users/petripeter/opt/anaconda3/lib/python3.9/site-packages/sklearn/ensemble/_gb_losses.py:202: RuntimeWarning: overflow encountered in square\n",
      "  sample_weight * ((y - raw_predictions.ravel()) ** 2)))\n",
      "\n",
      "/Users/petripeter/opt/anaconda3/lib/python3.9/site-packages/sklearn/ensemble/_gb_losses.py:202: RuntimeWarning: overflow encountered in square\n",
      "  sample_weight * ((y - raw_predictions.ravel()) ** 2)))\n",
      "\n",
      "/Users/petripeter/opt/anaconda3/lib/python3.9/site-packages/sklearn/ensemble/_gb_losses.py:202: RuntimeWarning: overflow encountered in square\n",
      "  sample_weight * ((y - raw_predictions.ravel()) ** 2)))\n",
      "\n",
      "/Users/petripeter/opt/anaconda3/lib/python3.9/site-packages/sklearn/ensemble/_gb_losses.py:202: RuntimeWarning: overflow encountered in square\n",
      "  sample_weight * ((y - raw_predictions.ravel()) ** 2)))\n",
      "\n",
      "/Users/petripeter/opt/anaconda3/lib/python3.9/site-packages/sklearn/ensemble/_gb_losses.py:202: RuntimeWarning: overflow encountered in square\n",
      "  sample_weight * ((y - raw_predictions.ravel()) ** 2)))\n",
      "\n",
      "/Users/petripeter/opt/anaconda3/lib/python3.9/site-packages/sklearn/ensemble/_gb_losses.py:202: RuntimeWarning: overflow encountered in square\n",
      "  sample_weight * ((y - raw_predictions.ravel()) ** 2)))\n",
      "\n",
      "/Users/petripeter/opt/anaconda3/lib/python3.9/site-packages/sklearn/ensemble/_gb_losses.py:202: RuntimeWarning: overflow encountered in square\n",
      "  sample_weight * ((y - raw_predictions.ravel()) ** 2)))\n",
      "\n",
      "/Users/petripeter/opt/anaconda3/lib/python3.9/site-packages/sklearn/ensemble/_gb_losses.py:202: RuntimeWarning: overflow encountered in square\n",
      "  sample_weight * ((y - raw_predictions.ravel()) ** 2)))\n",
      "\n",
      "/Users/petripeter/opt/anaconda3/lib/python3.9/site-packages/sklearn/ensemble/_gb_losses.py:202: RuntimeWarning: overflow encountered in square\n",
      "  sample_weight * ((y - raw_predictions.ravel()) ** 2)))\n",
      "\n",
      "/Users/petripeter/opt/anaconda3/lib/python3.9/site-packages/sklearn/ensemble/_gb_losses.py:202: RuntimeWarning: overflow encountered in square\n",
      "  sample_weight * ((y - raw_predictions.ravel()) ** 2)))\n",
      "\n",
      "/Users/petripeter/opt/anaconda3/lib/python3.9/site-packages/sklearn/ensemble/_gb_losses.py:202: RuntimeWarning: overflow encountered in square\n",
      "  sample_weight * ((y - raw_predictions.ravel()) ** 2)))\n",
      "\n",
      "/Users/petripeter/opt/anaconda3/lib/python3.9/site-packages/sklearn/ensemble/_gb_losses.py:202: RuntimeWarning: overflow encountered in square\n",
      "  sample_weight * ((y - raw_predictions.ravel()) ** 2)))\n",
      "\n",
      "/Users/petripeter/opt/anaconda3/lib/python3.9/site-packages/sklearn/ensemble/_gb_losses.py:202: RuntimeWarning: overflow encountered in square\n",
      "  sample_weight * ((y - raw_predictions.ravel()) ** 2)))\n",
      "\n",
      "/Users/petripeter/opt/anaconda3/lib/python3.9/site-packages/sklearn/ensemble/_gb_losses.py:202: RuntimeWarning: overflow encountered in square\n",
      "  sample_weight * ((y - raw_predictions.ravel()) ** 2)))\n",
      "\n"
     ]
    },
    {
     "name": "stdout",
     "output_type": "stream",
     "text": [
      "100%|██████████| 50/50 [00:33<00:00,  1.51trial/s, best loss: 22587.10587036188]\n"
     ]
    }
   ],
   "source": [
    "best_params_gbt = fmin(\n",
    "  fn=black_box_fn,\n",
    "  space=gbt_search_space,\n",
    "  algo=tpe.suggest,\n",
    "  max_evals=50)"
   ]
  },
  {
   "cell_type": "code",
   "execution_count": 56,
   "id": "81a47802",
   "metadata": {},
   "outputs": [
    {
     "data": {
      "text/plain": [
       "{'learning_rate': 1.1128358602458417,\n",
       " 'max_depth': 1,\n",
       " 'max_features': 0.0585287634518,\n",
       " 'min_impurity_decrease': 0.19081529368401368,\n",
       " 'min_samples_leaf': 0.04787261639196187,\n",
       " 'min_samples_split': 30,\n",
       " 'n_estimators': 868}"
      ]
     },
     "execution_count": 56,
     "metadata": {},
     "output_type": "execute_result"
    }
   ],
   "source": [
    "best_params_gbt"
   ]
  },
  {
   "cell_type": "code",
   "execution_count": 57,
   "id": "0e6f31d4",
   "metadata": {},
   "outputs": [
    {
     "data": {
      "text/plain": [
       "25968.82036234169"
      ]
     },
     "execution_count": 57,
     "metadata": {},
     "output_type": "execute_result"
    }
   ],
   "source": [
    "tree_based_prediction(X,y, core_model = GradientBoostingRegressor(**best_params_gbt))"
   ]
  },
  {
   "cell_type": "markdown",
   "id": "f758c63e",
   "metadata": {},
   "source": [
    "## Bayesian Optimization - AdaBoosted Tree"
   ]
  },
  {
   "cell_type": "code",
   "execution_count": 67,
   "id": "95b6aa41",
   "metadata": {},
   "outputs": [],
   "source": [
    "abt_search_space = {\n",
    "    \"learning_rate\": hp.loguniform('learning_rate',0.1, 1),\n",
    "    \"n_estimators\": hp.randint(\"n_estimators\", 200, 1000),\n",
    "    \"loss\": hp.choice(\"loss\", ['linear', 'square', 'exponential'])\n",
    "}"
   ]
  },
  {
   "cell_type": "code",
   "execution_count": 59,
   "id": "668d9dff",
   "metadata": {},
   "outputs": [],
   "source": [
    "def black_box_fn(search_space_point):\n",
    "    return tree_based_prediction(\n",
    "        X,\n",
    "        y,\n",
    "        core_model=AdaBoostRegressor(**search_space_point)\n",
    "    )"
   ]
  },
  {
   "cell_type": "code",
   "execution_count": 61,
   "id": "11f405d9",
   "metadata": {},
   "outputs": [
    {
     "name": "stdout",
     "output_type": "stream",
     "text": [
      "100%|█████████| 50/50 [02:03<00:00,  2.47s/trial, best loss: 29364.034759040343]\n"
     ]
    },
    {
     "data": {
      "text/plain": [
       "{'learning_rate': 1.9196999503614776, 'loss': 2, 'n_estimators': 297}"
      ]
     },
     "execution_count": 61,
     "metadata": {},
     "output_type": "execute_result"
    }
   ],
   "source": [
    "best_params_abt = fmin(\n",
    "  fn=black_box_fn,\n",
    "  space=abt_search_space,\n",
    "  algo=tpe.suggest,\n",
    "  max_evals=50)\n",
    "\n",
    "best_params_abt"
   ]
  },
  {
   "cell_type": "code",
   "execution_count": 65,
   "id": "dee89cb7",
   "metadata": {},
   "outputs": [],
   "source": [
    "best_params_abt = {'learning_rate': 1.9196999503614776, 'loss': 'exponential', 'n_estimators': 297}"
   ]
  },
  {
   "cell_type": "code",
   "execution_count": 66,
   "id": "3b0df506",
   "metadata": {},
   "outputs": [
    {
     "data": {
      "text/plain": [
       "32958.888993735716"
      ]
     },
     "execution_count": 66,
     "metadata": {},
     "output_type": "execute_result"
    }
   ],
   "source": [
    "tree_based_prediction(X,y, core_model = AdaBoostRegressor(**best_params_abt))"
   ]
  },
  {
   "cell_type": "markdown",
   "id": "86d9ef4e",
   "metadata": {},
   "source": [
    "## Bayesian Optimization - XGBoost"
   ]
  },
  {
   "cell_type": "code",
   "execution_count": 74,
   "id": "a2c9df10",
   "metadata": {},
   "outputs": [],
   "source": [
    "xgb_search_space = {\n",
    "    \"eta\": hp.uniform(\"eta\", 0, 1),\n",
    "    \"gamma\": hp.loguniform('gamma',0.1, 1),\n",
    "    \"max_depth\": hp.randint(\"max_depth\", 1, 8),\n",
    "    \"min_child_weight\": hp.loguniform('min_child_weight',0.1, 1),\n",
    "    \"max_delta_step\": hp.randint(\"max_delta_step\", 1, 10),\n",
    "#    \"num_feature\": hp.quniform(\"num_feature\", 1, 15, 1),\n",
    "#    \"num_parallel_tree\": hp.quniform(\"num_parallel_tree\", 1, 8, 1)\n",
    "}"
   ]
  },
  {
   "cell_type": "code",
   "execution_count": 75,
   "id": "216bdd08",
   "metadata": {},
   "outputs": [],
   "source": [
    "def black_box_fn(search_space_point):\n",
    "    return tree_based_prediction(\n",
    "        X,\n",
    "        y,\n",
    "        core_model=XGBRegressor(**search_space_point)\n",
    "    )"
   ]
  },
  {
   "cell_type": "code",
   "execution_count": 76,
   "id": "d208ff4a",
   "metadata": {},
   "outputs": [
    {
     "name": "stdout",
     "output_type": "stream",
     "text": [
      "100%|██████████| 50/50 [00:05<00:00,  9.52trial/s, best loss: 174740.7778000714]\n"
     ]
    },
    {
     "data": {
      "text/plain": [
       "{'eta': 0.35248003272532086,\n",
       " 'gamma': 2.233132387198671,\n",
       " 'max_delta_step': 3,\n",
       " 'max_depth': 1,\n",
       " 'min_child_weight': 1.2838115532140115}"
      ]
     },
     "execution_count": 76,
     "metadata": {},
     "output_type": "execute_result"
    }
   ],
   "source": [
    "best_params_xgb = fmin(\n",
    "  fn=black_box_fn,\n",
    "  space=xgb_search_space,\n",
    "  algo=tpe.suggest,\n",
    "  max_evals=50)\n",
    "\n",
    "best_params_xgb"
   ]
  },
  {
   "cell_type": "code",
   "execution_count": 78,
   "id": "8266721e",
   "metadata": {},
   "outputs": [
    {
     "data": {
      "text/plain": [
       "181815.49560829057"
      ]
     },
     "execution_count": 78,
     "metadata": {},
     "output_type": "execute_result"
    }
   ],
   "source": [
    "tree_based_prediction(X,y, core_model = XGBRegressor(**best_params_xgb))"
   ]
  },
  {
   "cell_type": "code",
   "execution_count": null,
   "id": "88b291c5",
   "metadata": {},
   "outputs": [],
   "source": []
  }
 ],
 "metadata": {
  "kernelspec": {
   "display_name": "Python 3 (ipykernel)",
   "language": "python",
   "name": "python3"
  },
  "language_info": {
   "codemirror_mode": {
    "name": "ipython",
    "version": 3
   },
   "file_extension": ".py",
   "mimetype": "text/x-python",
   "name": "python",
   "nbconvert_exporter": "python",
   "pygments_lexer": "ipython3",
   "version": "3.9.7"
  }
 },
 "nbformat": 4,
 "nbformat_minor": 5
}
